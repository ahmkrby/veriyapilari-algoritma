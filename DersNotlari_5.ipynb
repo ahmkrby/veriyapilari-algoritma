{
  "nbformat": 4,
  "nbformat_minor": 0,
  "metadata": {
    "colab": {
      "provenance": []
    },
    "kernelspec": {
      "name": "python3",
      "display_name": "Python 3"
    },
    "language_info": {
      "name": "python"
    }
  },
  "cells": [
    {
      "cell_type": "code",
      "execution_count": 1,
      "metadata": {
        "colab": {
          "base_uri": "https://localhost:8080/"
        },
        "id": "YT03jXfyDU1C",
        "outputId": "b3320a4a-9527-4896-82c5-4a3796d89cb4"
      },
      "outputs": [
        {
          "output_type": "stream",
          "name": "stdout",
          "text": [
            "Merhaba, İGÜ - İSTKA / Ders 5\n"
          ]
        }
      ],
      "source": [
        "print(\"Merhaba, İGÜ - İSTKA / Ders 5\") # yazdırma fonksiyonu"
      ]
    },
    {
      "cell_type": "code",
      "source": [
        "import sys # yazılıma kütüpjaneyi ekler.\n",
        "print(sys.version) # yazılan kütüphane hakkında bilgi verir"
      ],
      "metadata": {
        "colab": {
          "base_uri": "https://localhost:8080/"
        },
        "id": "ARaAKZEwDaRF",
        "outputId": "f09c11f2-440f-4af4-85cc-06902fdaacb5"
      },
      "execution_count": 2,
      "outputs": [
        {
          "output_type": "stream",
          "name": "stdout",
          "text": [
            "3.10.12 (main, Jul 29 2024, 16:56:48) [GCC 11.4.0]\n"
          ]
        }
      ]
    },
    {
      "cell_type": "code",
      "source": [
        "from google.colab import drive # google drive'ı bağlar.\n",
        "drive.mount('/content/drive') # google drive'ı bağlar."
      ],
      "metadata": {
        "colab": {
          "base_uri": "https://localhost:8080/"
        },
        "id": "sq8HcYd6DcpV",
        "outputId": "e3850737-3e8d-44ac-e4ed-18baa50edf58"
      },
      "execution_count": 3,
      "outputs": [
        {
          "output_type": "stream",
          "name": "stdout",
          "text": [
            "Mounted at /content/drive\n"
          ]
        }
      ]
    },
    {
      "cell_type": "code",
      "source": [
        "import os # yazılıma kütüphane ekler.\n",
        "os.chdir('/content/drive/My Drive/VERIYAPILARI_ISTKA') # Konumunu belirtir."
      ],
      "metadata": {
        "id": "nU4Gc1LMDeV1"
      },
      "execution_count": 4,
      "outputs": []
    },
    {
      "cell_type": "code",
      "source": [
        "# ile 100 arasındaki sayılardan 7'ye bölünenleri bölünmeyenleri ayrıştıran Python kodu\n",
        "Bolunenler=[]\n",
        "Bolunmeyenler=[]\n",
        "sayi=1\n",
        "\n",
        "while sayi<=100:\n",
        "  if sayi%7==0:\n",
        "    Bolunenler.append(sayi)\n",
        "  elif sayi%7!=0:\n",
        "    Bolunmeyenler.append(sayi)\n",
        "  sayi+=1\n",
        "\n",
        "# Sonucu ekrana yazdır.\n",
        "print(\"1 ile 100 arasındaki 7'ye bölünen sayılar: \", Bolunenler)\n",
        "print(\"1 ile 100 arasındaki 7'ye bölünmeyen sayılar: \", Bolunmeyenler)\n",
        "print(\"Bölünen toplam sayı adeti: \", len(Bolunenler))\n",
        "print(\"Bölünmeyen toplam sayı adeti: \", len(Bolunmeyenler))"
      ],
      "metadata": {
        "colab": {
          "base_uri": "https://localhost:8080/"
        },
        "id": "hx22Q-nuDhBk",
        "outputId": "15a72a49-7d9a-4101-978e-24ba768dc8d3"
      },
      "execution_count": 10,
      "outputs": [
        {
          "output_type": "stream",
          "name": "stdout",
          "text": [
            "1 ile 100 arasındaki 7'ye bölünen sayılar:  [7, 14, 21, 28, 35, 42, 49, 56, 63, 70, 77, 84, 91, 98]\n",
            "1 ile 100 arasındaki 7'ye bölünmeyen sayılar:  [1, 2, 3, 4, 5, 6, 8, 9, 10, 11, 12, 13, 15, 16, 17, 18, 19, 20, 22, 23, 24, 25, 26, 27, 29, 30, 31, 32, 33, 34, 36, 37, 38, 39, 40, 41, 43, 44, 45, 46, 47, 48, 50, 51, 52, 53, 54, 55, 57, 58, 59, 60, 61, 62, 64, 65, 66, 67, 68, 69, 71, 72, 73, 74, 75, 76, 78, 79, 80, 81, 82, 83, 85, 86, 87, 88, 89, 90, 92, 93, 94, 95, 96, 97, 99, 100]\n",
            "Bölünen toplam sayı adeti:  14\n",
            "Bölünmeyen toplam sayı adeti:  86\n"
          ]
        }
      ]
    },
    {
      "cell_type": "code",
      "source": [
        "# Girilen iki kodun hangisinin büyük olduğunu bulan ve sayı dışında girilen karakterin hatalı olduğunu söyleyen python kodu.\n",
        "while True:\n",
        "  try:\n",
        "    gelen1= float(input(\"Birinci sayıyı giriniz:\"))\n",
        "    gelen2= float(input(\"İkinci sayıyı giriniz:\"))\n",
        "\n",
        "    if gelen1>gelen2:\n",
        "      print(\"Birinci sayı büyüktür.\")\n",
        "    elif gelen1<gelen2:\n",
        "      print(\"İkinci sayı büyüktür.\")\n",
        "    else:\n",
        "      print(\"Sayılar birbirine eşittir.\")\n",
        "\n",
        "    break\n",
        "\n",
        "  except ValueError:\n",
        "    print(\"Lütfen sayı giriniz.\")\n",
        ""
      ],
      "metadata": {
        "colab": {
          "base_uri": "https://localhost:8080/"
        },
        "id": "gw9bpw_BKdAH",
        "outputId": "f1a4f2a2-3ad0-42f0-e4e5-e6182d565fe2"
      },
      "execution_count": 28,
      "outputs": [
        {
          "output_type": "stream",
          "name": "stdout",
          "text": [
            "Birinci sayıyı giriniz:\n",
            "Lütfen sayı giriniz.\n",
            "Birinci sayıyı giriniz:1\n",
            "İkinci sayıyı giriniz:2\n",
            "İkinci sayı büyüktür.\n"
          ]
        }
      ]
    },
    {
      "cell_type": "code",
      "source": [
        "# Kullanıcıdan alınan sayıya kadar 1'den başlayarak faktöriyel hesabının yapılmasıdır.\n",
        "while True:\n",
        "  try:\n",
        "    sayi= int(input(\"Bir sayı giriniz:  \"))\n",
        "    if sayi<0:\n",
        "      print(\"Negatif sayıların faktöriyeli hesaplanamaz.\")\n",
        "    elif sayi==0 or sayi==1:\n",
        "      print(1)\n",
        "    else:\n",
        "      sonuc=1\n",
        "      while sayi>1:\n",
        "        sonuc*=sayi\n",
        "        sayi-=1\n",
        "      print(sonuc)\n",
        "    break\n",
        "  except ValueError:\n",
        "    print(\"Lütfen sayı giriniz.\")"
      ],
      "metadata": {
        "colab": {
          "base_uri": "https://localhost:8080/"
        },
        "id": "BOni5h0ANVrD",
        "outputId": "b7c4b390-1676-4f31-8a2c-fccb4510c2ba"
      },
      "execution_count": 22,
      "outputs": [
        {
          "output_type": "stream",
          "name": "stdout",
          "text": [
            "Bir sayı giriniz:  sayı\n",
            "Lütfen sayı giriniz.\n",
            "Bir sayı giriniz:  10\n",
            "3628800\n"
          ]
        }
      ]
    },
    {
      "cell_type": "code",
      "source": [
        "# Kullanıcıdan başlangıç ve bitiş değerlerini alarak, bu değerler arasındaki çift sayıları bulan ve bu çift sayıların toplamını hesaplayan bir Python programı.\n",
        "while True:\n",
        "  try:\n",
        "    baslangic_degeri= int(input(\"Başlangıç değerini giriniz:   \"))\n",
        "    if baslangic_degeri<0:\n",
        "      baslangic_degeri= abs(baslangic_degeri)\n",
        "      print(\"Negatif değer girdiniz, pozitif olarak alındı: \",baslangic_degeri)\n",
        "    break\n",
        "  except ValueError:\n",
        "    print(\"Lütfen geçerli bir sayı giriniz.\")\n",
        "\n",
        "while True:\n",
        "    try:\n",
        "        bitis_degeri = int(input(\"Bitiş değerini girin: \"))\n",
        "        if bitis_degeri < 0:\n",
        "            bitis_degeri = abs(bitis_degeri)\n",
        "            print(f\"Negatif değer girdiniz, pozitif olarak alındı: {bitis_degeri}\")\n",
        "        break\n",
        "    except ValueError:\n",
        "        print(\"Lütfen geçerli bir tam sayı girin.\")\n",
        "\n",
        "cift_sayilar=[]\n",
        "cift_sayilarin_toplami=0\n",
        "sayi=baslangic_degeri\n",
        "\n",
        "while sayi<=bitis_degeri:\n",
        "  if sayi%2==0:\n",
        "    cift_sayilar.append(sayi)\n",
        "    cift_sayilarin_toplami+=sayi\n",
        "  sayi+=1\n",
        "\n",
        "# Elde edilen çift sayıları ve toplamlarını ekrana yazdır.\n",
        "\n",
        "print(baslangic_degeri, \"ile\", bitis_degeri, \"arasındaki çift sayılar:\")\n",
        "\n",
        "for num in cift_sayilar:\n",
        "  print(num, end=\"\\n\")\n",
        "\n",
        "print(\"Çift sayıların toplamı: \", cift_sayilarin_toplami)"
      ],
      "metadata": {
        "colab": {
          "base_uri": "https://localhost:8080/"
        },
        "id": "EUKyHY6TXCKC",
        "outputId": "275100ca-b5e3-4d3a-d311-22f48e13aa8a"
      },
      "execution_count": 38,
      "outputs": [
        {
          "output_type": "stream",
          "name": "stdout",
          "text": [
            "Başlangıç değerini giriniz:   1\n",
            "Bitiş değerini girin: 30\n",
            "1 ile 30 arasındaki çift sayılar:\n",
            "2\n",
            "4\n",
            "6\n",
            "8\n",
            "10\n",
            "12\n",
            "14\n",
            "16\n",
            "18\n",
            "20\n",
            "22\n",
            "24\n",
            "26\n",
            "28\n",
            "30\n",
            "Çift sayıların toplamı:  240\n"
          ]
        }
      ]
    },
    {
      "cell_type": "code",
      "source": [
        "# Önceden tanımlanan sesli harf listesinde girilen metnin karşılaştırılması yapılarak sesli ve sessiz harf kontrolünün yapımı\n",
        "sesli_harfler='aeıioöuüAEIİOÖUÜ'\n",
        "\n",
        "# Kelime girdisi alınır.\n",
        "kelime=input(\"Bir kelime giriniz: \")\n",
        "\n",
        "sesli_harf_sayisi=0\n",
        "sessiz_harf_sayisi=0\n",
        "\n",
        "# Kelimenin içindeki harflerin kontrolü yapılır.\n",
        "for harf in kelime:\n",
        "  if harf.isalpha():\n",
        "    if harf in sesli_harfler:\n",
        "      sesli_harf_sayisi+=1\n",
        "    else:\n",
        "      sessiz_harf_sayisi+=1\n",
        "\n",
        "# Sonucu ekrana yazdır.\n",
        "print(\"Kelimenin içindeki sesli harf sayısı: \", sesli_harf_sayisi)\n",
        "print(\"Kelimenin içindeki sessiz harf sayısı: \", sessiz_harf_sayisi)"
      ],
      "metadata": {
        "id": "ObbjujDMaoEm"
      },
      "execution_count": null,
      "outputs": []
    }
  ]
}