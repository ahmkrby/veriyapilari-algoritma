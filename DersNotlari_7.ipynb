{
  "nbformat": 4,
  "nbformat_minor": 0,
  "metadata": {
    "colab": {
      "provenance": []
    },
    "kernelspec": {
      "name": "python3",
      "display_name": "Python 3"
    },
    "language_info": {
      "name": "python"
    }
  },
  "cells": [
    {
      "cell_type": "code",
      "execution_count": 1,
      "metadata": {
        "colab": {
          "base_uri": "https://localhost:8080/"
        },
        "id": "3rtn-8N6px6Z",
        "outputId": "34396b4e-e941-45e9-8e7a-fe4715314b83"
      },
      "outputs": [
        {
          "output_type": "stream",
          "name": "stdout",
          "text": [
            "Merhaba, İGÜ - İSTKA / Ders 6\n"
          ]
        }
      ],
      "source": [
        "print(\"Merhaba, İGÜ - İSTKA / Ders 7\") # yazdırma fonksiyonu"
      ]
    },
    {
      "cell_type": "code",
      "source": [
        "\n",
        "import sys # yazılıma kütüphaneyi ekler.\n",
        "print(sys.version) # yazılan kütüphane hakkında bilgi verir"
      ],
      "metadata": {
        "colab": {
          "base_uri": "https://localhost:8080/"
        },
        "id": "0N9ZO0u4p4Iq",
        "outputId": "0ed75f22-3924-41b5-812c-d5408ae1042e"
      },
      "execution_count": 5,
      "outputs": [
        {
          "output_type": "stream",
          "name": "stdout",
          "text": [
            "3.10.12 (main, Jul 29 2024, 16:56:48) [GCC 11.4.0]\n"
          ]
        }
      ]
    },
    {
      "cell_type": "code",
      "source": [
        "from google.colab import drive # google drive'ı bağlar.\n",
        "drive.mount('/content/drive') # google drive'ı bağlar."
      ],
      "metadata": {
        "colab": {
          "base_uri": "https://localhost:8080/"
        },
        "id": "ZZ6PZiymp6kZ",
        "outputId": "26707970-3dae-4dad-a10f-1da2426a105c"
      },
      "execution_count": 3,
      "outputs": [
        {
          "output_type": "stream",
          "name": "stdout",
          "text": [
            "Mounted at /content/drive\n"
          ]
        }
      ]
    },
    {
      "cell_type": "code",
      "source": [
        "import os # yazılıma kütüphane ekler.\n",
        "os.chdir('/content/drive/My Drive/VERIYAPILARI_ISTKA') # Konumunu belirtir."
      ],
      "metadata": {
        "id": "f0pEJIUop8AZ"
      },
      "execution_count": 4,
      "outputs": []
    },
    {
      "cell_type": "code",
      "source": [
        "isim_listesi = [\"Ali\", \"Şerafettin\", \"Osman\", \"İclal\", \"Ayşe\"]\n",
        "\n",
        "def en_uzun_ismi_bul(isim_listesi):\n",
        "    en_uzun_isim = isim_listesi[0]  # Başlangıçta ilk ismi en uzun olarak varsayıyoruz\n",
        "    for isim in isim_listesi:\n",
        "        if len(isim) > len(en_uzun_isim):\n",
        "            en_uzun_isim = isim  # Daha uzun bir isim bulunursa, en uzun ismi güncelliyoruz\n",
        "    return en_uzun_isim\n",
        "\n",
        "def en_uzun_isim_indeksi_bul(isim_listesi):\n",
        "    en_uzun_indeks = 0  # Başlangıçta ilk ismin indeksini en uzun olarak varsayıyoruz\n",
        "    en_uzun_uzunluk = len(isim_listesi[0])  # İlk ismin uzunluğunu alıyoruz\n",
        "\n",
        "    for i in range(len(isim_listesi)):\n",
        "        if len(isim_listesi[i]) > en_uzun_uzunluk:\n",
        "            en_uzun_uzunluk = len(isim_listesi[i])\n",
        "            en_uzun_indeks = i  # Daha uzun bir isim bulunursa, en uzun ismin indeksini güncelliyoruz\n",
        "\n",
        "    return en_uzun_indeks\n",
        "\n",
        "en_uzun_isim = en_uzun_ismi_bul(isim_listesi)\n",
        "en_uzun_indeks = en_uzun_isim_indeksi_bul(isim_listesi)\n",
        "\n",
        "print(\"En uzun isim:\", en_uzun_isim)\n",
        "print(\"En uzun ismin liste adresi:\", en_uzun_indeks)\n",
        ""
      ],
      "metadata": {
        "colab": {
          "base_uri": "https://localhost:8080/"
        },
        "id": "M82T3osCp9Ya",
        "outputId": "f86f854e-de1a-49bd-fec6-0684a582773c"
      },
      "execution_count": 24,
      "outputs": [
        {
          "output_type": "stream",
          "name": "stdout",
          "text": [
            "En uzun isim: Şerafettin\n",
            "En uzun ismin liste adresi: 1\n"
          ]
        }
      ]
    },
    {
      "cell_type": "code",
      "source": [
        "liste=[]\n",
        "sayi=1\n",
        "i=1\n",
        "for i in range(175):\n",
        "  if sayi%13==0:\n",
        "    liste.append(sayi)\n",
        "  sayi+=1\n",
        "print(liste)\n",
        "print(len(liste))"
      ],
      "metadata": {
        "colab": {
          "base_uri": "https://localhost:8080/"
        },
        "id": "CJVlG-7z_anN",
        "outputId": "1562878e-cee9-41cc-9631-3826a7830e99"
      },
      "execution_count": 26,
      "outputs": [
        {
          "output_type": "stream",
          "name": "stdout",
          "text": [
            "[13, 26, 39, 52, 65, 78, 91, 104, 117, 130, 143, 156, 169]\n",
            "13\n"
          ]
        }
      ]
    },
    {
      "cell_type": "markdown",
      "source": [
        "\n",
        "\n",
        "---\n",
        "\n",
        "\n",
        "### ***VERİ SETİ DÜZENLEME***\n",
        "\n",
        "---\n",
        "\n"
      ],
      "metadata": {
        "id": "SoM-HCR8EQ49"
      }
    },
    {
      "cell_type": "code",
      "source": [
        "  import pandas as pd\n",
        "\n",
        "  VeriSetiYolu = '/content/drive/My Drive/VERIYAPILARI_ISTKA/dataset'\n",
        "\n",
        "  for file in os.listdir(VeriSetiYolu):                         # Klasördeki tüm dosyaları listele\n",
        "\n",
        "      if file.endswith(('.xlsx', '.xls')):                     # Sadece Excel dosyalarını seç\n",
        "\n",
        "          df = pd.read_excel(os.path.join(VeriSetiYolu, file))  # Excel dosyasını pandas ile oku\n",
        "\n",
        "          df.to_csv(os.path.join(VeriSetiYolu, file.rsplit('.', 1)[0] + '.csv'), index=False) # DataFrame'i CSV formatında kaydet\n",
        "          print(f\"{file} dosyası CSV formatına çevrildi.\")     # Çevrim İşlemi Çıktısı\n",
        "\n",
        "  # İşlem tamamlandığında kaç tane excel dosyası var ise o kadar *.csv formatına çevildiğinin\n",
        "  # bilgisini almaktayız"
      ],
      "metadata": {
        "colab": {
          "base_uri": "https://localhost:8080/"
        },
        "id": "jfFkmzm7AFs-",
        "outputId": "d8719aa1-5e56-48a3-adf6-7b3ddfc44c76"
      },
      "execution_count": 27,
      "outputs": [
        {
          "output_type": "stream",
          "name": "stdout",
          "text": [
            "atktan-geri-kazanm-miktarlar (2).xlsx dosyası CSV formatına çevrildi.\n"
          ]
        }
      ]
    },
    {
      "cell_type": "code",
      "source": [
        "  import os\n",
        "  import pandas as pd\n",
        "\n",
        "  VeriSetiYolu = '/content/drive/My Drive/VERIYAPILARI_ISTKA/dataset'\n",
        "\n",
        "  # VeriSetiYolu içindeki .csv dosyalarını bul ve say\n",
        "  csv_dosyaları = [dosya for dosya in os.listdir(VeriSetiYolu) if dosya.endswith('.csv')]\n",
        "\n",
        "  # .csv dosya sayısını ekrana yazdır\n",
        "  csv_dosya_sayisi = len(csv_dosyaları)\n",
        "  print(f\"VeriSetiYolu içerisinde {csv_dosya_sayisi} tane .csv dosyası bulunuyor.\")"
      ],
      "metadata": {
        "colab": {
          "base_uri": "https://localhost:8080/"
        },
        "id": "SUfaSa_TGPfs",
        "outputId": "6a6cdbd4-24cc-4fd2-b5f6-4749adb521cb"
      },
      "execution_count": 28,
      "outputs": [
        {
          "output_type": "stream",
          "name": "stdout",
          "text": [
            "VeriSetiYolu içerisinde 1 tane .csv dosyası bulunuyor.\n"
          ]
        }
      ]
    }
  ]
}