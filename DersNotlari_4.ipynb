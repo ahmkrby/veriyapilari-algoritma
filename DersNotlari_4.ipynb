{
  "nbformat": 4,
  "nbformat_minor": 0,
  "metadata": {
    "colab": {
      "provenance": []
    },
    "kernelspec": {
      "name": "python3",
      "display_name": "Python 3"
    },
    "language_info": {
      "name": "python"
    }
  },
  "cells": [
    {
      "cell_type": "code",
      "execution_count": 2,
      "metadata": {
        "colab": {
          "base_uri": "https://localhost:8080/"
        },
        "id": "T2dTD_JJ1Ffc",
        "outputId": "5e75ac29-3d34-48a7-d27c-26cce40bad6c"
      },
      "outputs": [
        {
          "output_type": "stream",
          "name": "stdout",
          "text": [
            "Merhaba, İGÜ - İSTKA / Ders 4\n"
          ]
        }
      ],
      "source": [
        "print(\"Merhaba, İGÜ - İSTKA / Ders 4\") # yazdırma fonksiyonu"
      ]
    },
    {
      "cell_type": "code",
      "source": [
        "import sys # yazılıma kütüpjaneyi ekler.\n",
        "print(sys.version) # yazılan kütüphane hakkında bilgi verir"
      ],
      "metadata": {
        "colab": {
          "base_uri": "https://localhost:8080/"
        },
        "id": "Nu1K5wMJ1Gnw",
        "outputId": "cf3f6609-adcb-455d-a43e-4024caf93e38"
      },
      "execution_count": 3,
      "outputs": [
        {
          "output_type": "stream",
          "name": "stdout",
          "text": [
            "3.10.12 (main, Jul 29 2024, 16:56:48) [GCC 11.4.0]\n"
          ]
        }
      ]
    },
    {
      "cell_type": "code",
      "source": [
        "from google.colab import drive # google drive'ı bağlar.\n",
        "drive.mount('/content/drive') # google drive'ı bağlar."
      ],
      "metadata": {
        "colab": {
          "base_uri": "https://localhost:8080/"
        },
        "id": "LbVslbwt1JTA",
        "outputId": "1a8e037c-4dc6-43c4-b4b0-5c97921605ae"
      },
      "execution_count": 4,
      "outputs": [
        {
          "output_type": "stream",
          "name": "stdout",
          "text": [
            "Drive already mounted at /content/drive; to attempt to forcibly remount, call drive.mount(\"/content/drive\", force_remount=True).\n"
          ]
        }
      ]
    },
    {
      "cell_type": "code",
      "source": [
        "import os # yazılıma kütüphane ekler.\n",
        "os.chdir('/content/drive/My Drive/VERIYAPILARI_ISTKA') # Konumunu belirtir."
      ],
      "metadata": {
        "id": "3Pv2sgYU1LQ_"
      },
      "execution_count": 5,
      "outputs": []
    },
    {
      "cell_type": "code",
      "source": [
        "# for döngüsü örneği: 0'dan 4'e kadar olan sayıların yazdırılması işlemidir.\n",
        "for i in range(5):\n",
        "  print(i)"
      ],
      "metadata": {
        "colab": {
          "base_uri": "https://localhost:8080/"
        },
        "id": "0Kia-yf21OcP",
        "outputId": "99ced1f6-2cb9-433c-8a86-8cd9ac1f7bfd"
      },
      "execution_count": 6,
      "outputs": [
        {
          "output_type": "stream",
          "name": "stdout",
          "text": [
            "0\n",
            "1\n",
            "2\n",
            "3\n",
            "4\n"
          ]
        }
      ]
    },
    {
      "cell_type": "code",
      "source": [
        "#for döngüsü örneği: alışveriş listesi oluşturma\n",
        "liste=[\"elma\",\"ekmek\",\"süt\",\"peynir\"]\n",
        "\n",
        "for alinacaklar in liste:\n",
        "  print(alinacaklar)"
      ],
      "metadata": {
        "colab": {
          "base_uri": "https://localhost:8080/"
        },
        "id": "osdC83BGBOe3",
        "outputId": "158fe105-bec4-4fc8-f270-a5873623678c"
      },
      "execution_count": 7,
      "outputs": [
        {
          "output_type": "stream",
          "name": "stdout",
          "text": [
            "elma\n",
            "ekmek\n",
            "süt\n",
            "peynir\n"
          ]
        }
      ]
    },
    {
      "cell_type": "code",
      "source": [
        "# for döngüsü örneği: bir sınıftaki öğrencilerin notlarının ortalamasını hesaplama\n",
        "\n",
        "notlar =[85,92,78,90,88]\n",
        "\n",
        "toplam=0\n",
        "for sayi in notlar:\n",
        "  toplam+=sayi\n",
        "\n",
        "ortalama=toplam/len(notlar)\n",
        "\n",
        "print(\"Birinci Çıktı: Not Ortalaması: \",ortalama)\n",
        "print(f\"İkinci Çıktı: Not Ortalaması: {ortalama}\") # \"C\" dili benzerinde yazım"
      ],
      "metadata": {
        "colab": {
          "base_uri": "https://localhost:8080/"
        },
        "id": "ORT4Ozw2Cpzw",
        "outputId": "3f05af65-ec61-4fa7-adc5-e7c2276256de"
      },
      "execution_count": 8,
      "outputs": [
        {
          "output_type": "stream",
          "name": "stdout",
          "text": [
            "Birinci Çıktı: Not Ortalaması:  86.6\n",
            "İkinci Çıktı: Not Ortalaması: 86.6\n"
          ]
        }
      ]
    },
    {
      "cell_type": "code",
      "source": [
        "# while döngüsü örneği: 0'dan 4'e kadar olan sayıların yazdırılması işlemidir.\n",
        "i=0\n",
        "while i<5:\n",
        "  print(i)\n",
        "  i+=1"
      ],
      "metadata": {
        "colab": {
          "base_uri": "https://localhost:8080/"
        },
        "id": "I2B8WHMeNk3K",
        "outputId": "0f9a577f-d3c2-4e19-c577-dc604e250ea6"
      },
      "execution_count": 9,
      "outputs": [
        {
          "output_type": "stream",
          "name": "stdout",
          "text": [
            "0\n",
            "1\n",
            "2\n",
            "3\n",
            "4\n"
          ]
        }
      ]
    },
    {
      "cell_type": "code",
      "source": [
        "# Kullanıcıdan bir sayı alınması\n",
        "kullanici_girdisi=int(input(\"Bir sayı giriniz: \"))\n",
        "\n",
        "# 0'dan kullanıcının girdiiği sayıya kadar sıralama yapılması\n",
        "\n",
        "i=0\n",
        "while i<=kullanici_girdisi:\n",
        "  print(i)\n",
        "  i+=1"
      ],
      "metadata": {
        "colab": {
          "base_uri": "https://localhost:8080/"
        },
        "id": "Azj4IDfeOtHE",
        "outputId": "533921b8-915a-4274-acae-a71e977255af"
      },
      "execution_count": 10,
      "outputs": [
        {
          "output_type": "stream",
          "name": "stdout",
          "text": [
            "Bir sayı giriniz: 1\n",
            "0\n",
            "1\n"
          ]
        }
      ]
    },
    {
      "cell_type": "code",
      "source": [
        "# break örneği: 3'e ulaştığında döngü sonlandıran kod bloğudur.\n",
        "\n",
        "for i in range(5):\n",
        "  if i==3:\n",
        "    break\n",
        "  print(i)"
      ],
      "metadata": {
        "colab": {
          "base_uri": "https://localhost:8080/"
        },
        "id": "SbIrd1rZP5Sn",
        "outputId": "125466ee-1dcc-49f3-913c-8ae415b820d0"
      },
      "execution_count": 11,
      "outputs": [
        {
          "output_type": "stream",
          "name": "stdout",
          "text": [
            "0\n",
            "1\n",
            "2\n"
          ]
        }
      ]
    },
    {
      "cell_type": "code",
      "source": [
        "# continue örneği: 3'e ulaştığında o tekrar işlemini es geçen kod bloğudur.\n",
        "\n",
        "for i in range(5):\n",
        "  if i==3:\n",
        "    continue\n",
        "  print(i)"
      ],
      "metadata": {
        "colab": {
          "base_uri": "https://localhost:8080/"
        },
        "id": "BBf5VtZyQirx",
        "outputId": "5ab09c0c-f793-4b20-a064-5afe99b987b2"
      },
      "execution_count": 12,
      "outputs": [
        {
          "output_type": "stream",
          "name": "stdout",
          "text": [
            "0\n",
            "1\n",
            "2\n",
            "4\n"
          ]
        }
      ]
    },
    {
      "cell_type": "code",
      "source": [
        "  # iç içe for döngüsü örneği: 2 boyutlu bir matrisin elemanları üzerinde işlemler yapan kod bloğudur.\n",
        "\n",
        "  matris=[\n",
        "      [1,2,3],\n",
        "      [4,5,6,],\n",
        "      [7,8,9]\n",
        "  ]\n",
        "\n",
        "  for x in matris:\n",
        "    for y in x:\n",
        "      print(y)"
      ],
      "metadata": {
        "colab": {
          "base_uri": "https://localhost:8080/"
        },
        "id": "0bMmYO_2RxRL",
        "outputId": "f7a9df9f-a437-40a7-a806-dfdc5bf04940"
      },
      "execution_count": 13,
      "outputs": [
        {
          "output_type": "stream",
          "name": "stdout",
          "text": [
            "1\n",
            "2\n",
            "3\n",
            "4\n",
            "5\n",
            "6\n",
            "7\n",
            "8\n",
            "9\n"
          ]
        }
      ]
    },
    {
      "cell_type": "code",
      "source": [
        "# Kullanıcıdan bilgi alınması\n",
        "\n",
        "while True:\n",
        "  try:\n",
        "    gelen_bilgi=int(input(\"Bir sayı giriniz: \"))\n",
        "    break\n",
        "  except ValueError:\n",
        "      print(\"Lütfen bir sayı giriniz.\")\n",
        "\n",
        "# 0'dan kullanıcı tarafından girilen sayıya kadar sıralama yapma kod bloğudur.\n",
        "\n",
        "i=0\n",
        "while i<=gelen_bilgi:\n",
        "  print(i)\n",
        "  i+=1"
      ],
      "metadata": {
        "colab": {
          "base_uri": "https://localhost:8080/"
        },
        "id": "DHFN_CLFSTcV",
        "outputId": "1829617c-39c4-48d1-d0d2-11bd29c5e879"
      },
      "execution_count": 14,
      "outputs": [
        {
          "output_type": "stream",
          "name": "stdout",
          "text": [
            "Bir sayı giriniz: 1\n",
            "0\n",
            "1\n"
          ]
        }
      ]
    },
    {
      "cell_type": "code",
      "source": [
        "# while döngüsü örneği: kullanıcı bakiye bilgisinin sorgulanması ve paranın çekilmesi\n",
        "toplam_ucret=1000\n",
        "dongu=1\n",
        "while toplam_ucret>0:\n",
        "  try:\n",
        "    cekilen_tutar=int(input(\"Çekmek istedğiniz miktarı giriniz:   \"))\n",
        "    if cekilen_tutar>toplam_ucret:\n",
        "      print(\"Yetersiz bakiye!\")\n",
        "      while True:\n",
        "        bilgi=input(\"İşleme devam etmek istiyor musunuz? (e/h)\").lower()\n",
        "        if bilgi==\"e\":\n",
        "          continue\n",
        "        elif bilgi==\"h\":\n",
        "          sys.exit() # Burası değiştirilebilir. Amacını uyguluyor fakat uygulamada bu kısım gerçekleşince hata gözüküyor.\n",
        "        else:\n",
        "          print(\"Lütfen geçerli bir değer giriniz!\")\n",
        "    else:\n",
        "      toplam_ucret-=cekilen_tutar\n",
        "      print(f\"Kalan bakiye: {toplam_ucret}\")\n",
        "    if toplam_ucret==0:\n",
        "      print(\"Bakiye tükendi!\")\n",
        "      break\n",
        "  except ValueError:\n",
        "    print(\"Lütfen geçerli bir sayı giriniz!\")"
      ],
      "metadata": {
        "id": "639u_uwzVT8x",
        "colab": {
          "base_uri": "https://localhost:8080/",
          "height": 280
        },
        "outputId": "bc725642-804e-4184-fb6d-e00708259952"
      },
      "execution_count": 15,
      "outputs": [
        {
          "name": "stdout",
          "output_type": "stream",
          "text": [
            "Çekmek istedğiniz miktarı giriniz:   100\n",
            "Kalan bakiye: 900\n",
            "Çekmek istedğiniz miktarı giriniz:   100\n",
            "Kalan bakiye: 800\n",
            "Çekmek istedğiniz miktarı giriniz:   600\n",
            "Kalan bakiye: 200\n",
            "Çekmek istedğiniz miktarı giriniz:   500\n",
            "Yetersiz bakiye!\n",
            "İşleme devam etmek istiyor musunuz? (e/h)h\n"
          ]
        },
        {
          "output_type": "error",
          "ename": "SystemExit",
          "evalue": "",
          "traceback": [
            "An exception has occurred, use %tb to see the full traceback.\n",
            "\u001b[0;31mSystemExit\u001b[0m\n"
          ]
        },
        {
          "output_type": "stream",
          "name": "stderr",
          "text": [
            "/usr/local/lib/python3.10/dist-packages/IPython/core/interactiveshell.py:3561: UserWarning: To exit: use 'exit', 'quit', or Ctrl-D.\n",
            "  warn(\"To exit: use 'exit', 'quit', or Ctrl-D.\", stacklevel=1)\n"
          ]
        }
      ]
    },
    {
      "cell_type": "code",
      "source": [],
      "metadata": {
        "id": "UyL48Sm6oDus"
      },
      "execution_count": null,
      "outputs": []
    }
  ]
}