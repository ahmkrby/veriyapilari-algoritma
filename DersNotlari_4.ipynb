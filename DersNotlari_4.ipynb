{
  "nbformat": 4,
  "nbformat_minor": 0,
  "metadata": {
    "colab": {
      "provenance": []
    },
    "kernelspec": {
      "name": "python3",
      "display_name": "Python 3"
    },
    "language_info": {
      "name": "python"
    }
  },
  "cells": [
    {
      "cell_type": "code",
      "execution_count": 30,
      "metadata": {
        "colab": {
          "base_uri": "https://localhost:8080/"
        },
        "id": "T2dTD_JJ1Ffc",
        "outputId": "a9fe1679-a5a6-4d02-cd98-f1a9db7a7fcf"
      },
      "outputs": [
        {
          "output_type": "stream",
          "name": "stdout",
          "text": [
            "Merhaba, İGÜ - İSTKA / Ders 4\n"
          ]
        }
      ],
      "source": [
        "print(\"Merhaba, İGÜ - İSTKA / Ders 4\") # yazdırma fonksiyonu"
      ]
    },
    {
      "cell_type": "code",
      "source": [
        "import sys # yazılıma kütüpjaneyi ekler.\n",
        "print(sys.version) # yazılan kütüphane hakkında bilgi verir"
      ],
      "metadata": {
        "colab": {
          "base_uri": "https://localhost:8080/"
        },
        "id": "Nu1K5wMJ1Gnw",
        "outputId": "6363c304-6fb0-48ff-8326-b9fcc9ea91a1"
      },
      "execution_count": 31,
      "outputs": [
        {
          "output_type": "stream",
          "name": "stdout",
          "text": [
            "3.10.12 (main, Jul 29 2024, 16:56:48) [GCC 11.4.0]\n"
          ]
        }
      ]
    },
    {
      "cell_type": "code",
      "source": [
        "from google.colab import drive # google drive'ı bağlar.\n",
        "drive.mount('/content/drive') # google drive'ı bağlar."
      ],
      "metadata": {
        "colab": {
          "base_uri": "https://localhost:8080/"
        },
        "id": "LbVslbwt1JTA",
        "outputId": "75b25801-3fd1-4c54-ca3a-49c035b4adbc"
      },
      "execution_count": 32,
      "outputs": [
        {
          "output_type": "stream",
          "name": "stdout",
          "text": [
            "Drive already mounted at /content/drive; to attempt to forcibly remount, call drive.mount(\"/content/drive\", force_remount=True).\n"
          ]
        }
      ]
    },
    {
      "cell_type": "code",
      "source": [
        "import os # yazılıma kütüphane ekler.\n",
        "os.chdir('/content/drive/My Drive/VERIYAPILARI_ISTKA') # Konumunu belirtir."
      ],
      "metadata": {
        "id": "3Pv2sgYU1LQ_"
      },
      "execution_count": 33,
      "outputs": []
    },
    {
      "cell_type": "code",
      "source": [
        "# for döngüsü örneği: 0'dan 4'e kadar olan sayıların yazdırılması işlemidir.\n",
        "for i in range(5):\n",
        "  print(i)"
      ],
      "metadata": {
        "colab": {
          "base_uri": "https://localhost:8080/"
        },
        "id": "0Kia-yf21OcP",
        "outputId": "fe8c54c7-c2e5-4ab6-b165-708f20fe7f27"
      },
      "execution_count": 34,
      "outputs": [
        {
          "output_type": "stream",
          "name": "stdout",
          "text": [
            "0\n",
            "1\n",
            "2\n",
            "3\n",
            "4\n"
          ]
        }
      ]
    },
    {
      "cell_type": "code",
      "source": [
        "#for döngüsü örneği: alışveriş listesi oluşturma\n",
        "liste=[\"elma\",\"ekmek\",\"süt\",\"peynir\"]\n",
        "\n",
        "for alinacaklar in liste:\n",
        "  print(alinacaklar)"
      ],
      "metadata": {
        "colab": {
          "base_uri": "https://localhost:8080/"
        },
        "id": "osdC83BGBOe3",
        "outputId": "d610b8ca-0c88-4692-ddc5-8876f6c4aa9a"
      },
      "execution_count": null,
      "outputs": [
        {
          "output_type": "stream",
          "name": "stdout",
          "text": [
            "elma\n",
            "ekmek\n",
            "süt\n",
            "peynir\n"
          ]
        }
      ]
    },
    {
      "cell_type": "code",
      "source": [
        "# for döngüsü örneği: bir sınıftaki öğrencilerin notlarının ortalamasını hesaplama\n",
        "\n",
        "notlar =[85,92,78,90,88]\n",
        "\n",
        "toplam=0\n",
        "for sayi in notlar:\n",
        "  toplam+=sayi\n",
        "\n",
        "ortalama=toplam/len(notlar)\n",
        "\n",
        "print(\"Birinci Çıktı: Not Ortalaması: \",ortalama)\n",
        "print(f\"İkinci Çıktı: Not Ortalaması: {ortalama}\") # \"C\" dili benzerinde yazım"
      ],
      "metadata": {
        "colab": {
          "base_uri": "https://localhost:8080/"
        },
        "id": "ORT4Ozw2Cpzw",
        "outputId": "21f9b2f2-3300-44cf-f143-a9219a1db581"
      },
      "execution_count": null,
      "outputs": [
        {
          "output_type": "stream",
          "name": "stdout",
          "text": [
            "Birinci Çıktı: Not Ortalaması:  86.6\n",
            "İkinci Çıktı: Not Ortalaması: 86.6\n"
          ]
        }
      ]
    },
    {
      "cell_type": "code",
      "source": [
        "# while döngüsü örneği: 0'dan 4'e kadar olan sayıların yazdırılması işlemidir.\n",
        "i=0\n",
        "while i<5:\n",
        "  print(i)\n",
        "  i+=1"
      ],
      "metadata": {
        "colab": {
          "base_uri": "https://localhost:8080/"
        },
        "id": "I2B8WHMeNk3K",
        "outputId": "19f7e9cb-d26b-43f2-a6e1-a513de0cc4f2"
      },
      "execution_count": null,
      "outputs": [
        {
          "output_type": "stream",
          "name": "stdout",
          "text": [
            "0\n",
            "1\n",
            "2\n",
            "3\n",
            "4\n"
          ]
        }
      ]
    },
    {
      "cell_type": "code",
      "source": [
        "# Kullanıcıdan bir sayı alınması\n",
        "kullanici_girdisi=int(input(\"Bir sayı giriniz: \"))\n",
        "\n",
        "# 0'dan kullanıcının girdiiği sayıya kadar sıralama yapılması\n",
        "\n",
        "i=0\n",
        "while i<=kullanici_girdisi:\n",
        "  print(i)\n",
        "  i+=1"
      ],
      "metadata": {
        "colab": {
          "base_uri": "https://localhost:8080/"
        },
        "id": "Azj4IDfeOtHE",
        "outputId": "bafd3cf8-b063-4940-82bd-b15a75f740a7"
      },
      "execution_count": null,
      "outputs": [
        {
          "output_type": "stream",
          "name": "stdout",
          "text": [
            "Bir sayı giriniz: 1\n",
            "0\n",
            "1\n"
          ]
        }
      ]
    },
    {
      "cell_type": "code",
      "source": [
        "# break örneği: 3'e ulaştığında döngü sonlandıran kod bloğudur.\n",
        "\n",
        "for i in range(5):\n",
        "  if i==3:\n",
        "    break\n",
        "  print(i)"
      ],
      "metadata": {
        "colab": {
          "base_uri": "https://localhost:8080/"
        },
        "id": "SbIrd1rZP5Sn",
        "outputId": "c03ad245-9144-46de-f965-4d576f7ca085"
      },
      "execution_count": null,
      "outputs": [
        {
          "output_type": "stream",
          "name": "stdout",
          "text": [
            "0\n",
            "1\n",
            "2\n"
          ]
        }
      ]
    },
    {
      "cell_type": "code",
      "source": [
        "# continue örneği: 3'e ulaştığında o tekrar işlemini es geçen kod bloğudur.\n",
        "\n",
        "for i in range(5):\n",
        "  if i==3:\n",
        "    continue\n",
        "  print(i)"
      ],
      "metadata": {
        "colab": {
          "base_uri": "https://localhost:8080/"
        },
        "id": "BBf5VtZyQirx",
        "outputId": "23698cd0-fee8-41ec-b2ff-5c08a47c7d40"
      },
      "execution_count": null,
      "outputs": [
        {
          "output_type": "stream",
          "name": "stdout",
          "text": [
            "0\n",
            "1\n",
            "2\n",
            "4\n"
          ]
        }
      ]
    },
    {
      "cell_type": "code",
      "source": [
        "  # iç içe for döngüsü örneği: 2 boyutlu bir matrisin elemanları üzerinde işlemler yapan kod bloğudur.\n",
        "\n",
        "  matris=[\n",
        "      [1,2,3],\n",
        "      [4,5,6,],\n",
        "      [7,8,9]\n",
        "  ]\n",
        "\n",
        "  for x in matris:\n",
        "    for y in x:\n",
        "      print(y)"
      ],
      "metadata": {
        "colab": {
          "base_uri": "https://localhost:8080/"
        },
        "id": "0bMmYO_2RxRL",
        "outputId": "7d8ca69e-333a-4a64-ebaa-3ca43e0d29c1"
      },
      "execution_count": null,
      "outputs": [
        {
          "output_type": "stream",
          "name": "stdout",
          "text": [
            "1\n",
            "2\n",
            "3\n",
            "4\n",
            "5\n",
            "6\n",
            "7\n",
            "8\n",
            "9\n"
          ]
        }
      ]
    },
    {
      "cell_type": "code",
      "source": [
        "# Kullanıcıdan bilgi alınması\n",
        "\n",
        "while True:\n",
        "  try:\n",
        "    gelen_bilgi=int(input(\"Bir sayı giriniz: \"))\n",
        "    break\n",
        "  except ValueError:\n",
        "      print(\"Lütfen bir sayı giriniz.\")\n",
        "\n",
        "# 0'dan kullanıcı tarafından girilen sayıya kadar sıralama yapma kod bloğudur.\n",
        "\n",
        "i=0\n",
        "while i<=gelen_bilgi:\n",
        "  print(i)\n",
        "  i+=1"
      ],
      "metadata": {
        "colab": {
          "base_uri": "https://localhost:8080/"
        },
        "id": "DHFN_CLFSTcV",
        "outputId": "c7aa83a1-af1d-42c3-b61f-297c0e07eb1a"
      },
      "execution_count": null,
      "outputs": [
        {
          "output_type": "stream",
          "name": "stdout",
          "text": [
            "Bir sayı giriniz: 1\n",
            "0\n",
            "1\n"
          ]
        }
      ]
    },
    {
      "cell_type": "code",
      "source": [
        "# while döngüsü örneği: kullanıcı bakiye bilgisinin sorgulanması ve paranın çekilmesi\n",
        "toplam_ucret=1000\n",
        "dongu=1\n",
        "while toplam_ucret>0:\n",
        "  try:\n",
        "    cekilen_tutar=int(input(\"Çekmek istedğiniz miktarı giriniz:   \"))\n",
        "    if cekilen_tutar>toplam_ucret:\n",
        "      print(\"Yetersiz bakiye!\")\n",
        "      while True:\n",
        "        bilgi=input(\"İşleme devam etmek istiyor musunuz? (e/h)\").lower()\n",
        "        if bilgi==\"e\":\n",
        "          continue\n",
        "        elif bilgi==\"h\":\n",
        "          sys.exit(\"Başarılı bir şekilde sonlandırıldı. Yine bekleriz :)\") # Burası değiştirilebilir. Amacını uyguluyor fakat uygulamada bu kısım gerçekleşince hata gözüküyor.\n",
        "        else:\n",
        "          print(\"Lütfen geçerli bir değer giriniz!\")\n",
        "    else:\n",
        "      toplam_ucret-=cekilen_tutar\n",
        "      print(f\"Kalan bakiye: {toplam_ucret}\")\n",
        "    if toplam_ucret==0:\n",
        "      print(\"Bakiye tükendi!\")\n",
        "      break\n",
        "  except ValueError:\n",
        "    print(\"Lütfen geçerli bir sayı giriniz!\")"
      ],
      "metadata": {
        "id": "639u_uwzVT8x",
        "colab": {
          "base_uri": "https://localhost:8080/",
          "height": 176
        },
        "outputId": "71255d1b-c0f5-48f7-e620-008576248649"
      },
      "execution_count": 38,
      "outputs": [
        {
          "name": "stdout",
          "output_type": "stream",
          "text": [
            "Çekmek istedğiniz miktarı giriniz:   5000\n",
            "Yetersiz bakiye!\n",
            "İşleme devam etmek istiyor musunuz? (e/h)h\n"
          ]
        },
        {
          "output_type": "error",
          "ename": "SystemExit",
          "evalue": "Başarılı bir şekilde sonlandırıldı. Yine bekleriz :)",
          "traceback": [
            "An exception has occurred, use %tb to see the full traceback.\n",
            "\u001b[0;31mSystemExit\u001b[0m\u001b[0;31m:\u001b[0m Başarılı bir şekilde sonlandırıldı. Yine bekleriz :)\n"
          ]
        },
        {
          "output_type": "stream",
          "name": "stderr",
          "text": [
            "/usr/local/lib/python3.10/dist-packages/IPython/core/interactiveshell.py:3561: UserWarning: To exit: use 'exit', 'quit', or Ctrl-D.\n",
            "  warn(\"To exit: use 'exit', 'quit', or Ctrl-D.\", stacklevel=1)\n"
          ]
        }
      ]
    },
    {
      "cell_type": "code",
      "source": [],
      "metadata": {
        "id": "UyL48Sm6oDus"
      },
      "execution_count": null,
      "outputs": []
    }
  ]
}