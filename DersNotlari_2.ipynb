{
  "nbformat": 4,
  "nbformat_minor": 0,
  "metadata": {
    "colab": {
      "provenance": []
    },
    "kernelspec": {
      "name": "python3",
      "display_name": "Python 3"
    },
    "language_info": {
      "name": "python"
    }
  },
  "cells": [
    {
      "cell_type": "code",
      "execution_count": 21,
      "metadata": {
        "colab": {
          "base_uri": "https://localhost:8080/"
        },
        "id": "gN54yMvRnGsU",
        "outputId": "78fc95e8-9e04-496e-c7d1-5d9ab23e86d5"
      },
      "outputs": [
        {
          "output_type": "stream",
          "name": "stdout",
          "text": [
            "Merhaba, İGÜ - İSTKA / Ders 2\n"
          ]
        }
      ],
      "source": [
        "print(\"Merhaba, İGÜ - İSTKA / Ders 2\") # print ekrana çıktı veren bir koddur."
      ]
    },
    {
      "cell_type": "code",
      "source": [
        "import sys # yazılıma kütüpjaneyi ekler.\n",
        "print(sys.version) # yazılan kütüphane hakkında bilgi verir"
      ],
      "metadata": {
        "colab": {
          "base_uri": "https://localhost:8080/"
        },
        "id": "yy18pr_4pfg7",
        "outputId": "816da297-00d0-4e36-9174-ca940ba9603c"
      },
      "execution_count": 22,
      "outputs": [
        {
          "output_type": "stream",
          "name": "stdout",
          "text": [
            "3.10.12 (main, Jul 29 2024, 16:56:48) [GCC 11.4.0]\n"
          ]
        }
      ]
    },
    {
      "cell_type": "code",
      "source": [
        "from google.colab import drive # google drive'ı bağlar.\n",
        "drive.mount('/content/drive') # google drive'ı bağlar."
      ],
      "metadata": {
        "colab": {
          "base_uri": "https://localhost:8080/"
        },
        "id": "JnHDqKvTp3Iu",
        "outputId": "dceabcd0-5e55-4801-f952-9f35b0422c47"
      },
      "execution_count": 10,
      "outputs": [
        {
          "output_type": "stream",
          "name": "stdout",
          "text": [
            "Drive already mounted at /content/drive; to attempt to forcibly remount, call drive.mount(\"/content/drive\", force_remount=True).\n"
          ]
        }
      ]
    },
    {
      "cell_type": "code",
      "source": [
        "import os # yazılıma kütüphane ekler.\n",
        "os.chdir('/content/drive/My Drive/VERIYAPILARI_ISTKA') # Konumunu belirtir."
      ],
      "metadata": {
        "id": "fCIPsHiUrEA0"
      },
      "execution_count": 11,
      "outputs": []
    },
    {
      "cell_type": "code",
      "source": [
        "# Geçerli değişken tanımlaması\n",
        "degisken_1 = 10\n",
        "degisken2 = 20\n",
        "_degisken3 = 30"
      ],
      "metadata": {
        "id": "cnbeimxbv_r0"
      },
      "execution_count": 12,
      "outputs": []
    },
    {
      "cell_type": "code",
      "source": [
        "#Geçersiz değişken tanımlama\n",
        "\n",
        "1degisken = 10\n",
        "degisken2-5 = 20"
      ],
      "metadata": {
        "colab": {
          "base_uri": "https://localhost:8080/",
          "height": 106
        },
        "id": "eI8w3c8zwZFr",
        "outputId": "c0a886b0-a8d7-4940-f359-aef3356a63ec"
      },
      "execution_count": 13,
      "outputs": [
        {
          "output_type": "error",
          "ename": "SyntaxError",
          "evalue": "invalid decimal literal (<ipython-input-13-a307c6feba3a>, line 2)",
          "traceback": [
            "\u001b[0;36m  File \u001b[0;32m\"<ipython-input-13-a307c6feba3a>\"\u001b[0;36m, line \u001b[0;32m2\u001b[0m\n\u001b[0;31m    1degisken = 10\u001b[0m\n\u001b[0m    ^\u001b[0m\n\u001b[0;31mSyntaxError\u001b[0m\u001b[0;31m:\u001b[0m invalid decimal literal\n"
          ]
        }
      ]
    },
    {
      "cell_type": "code",
      "source": [
        "#Değişken tanımlama işlemleri\n",
        "\n",
        "x = 5\n",
        "y = \"Merhaba Dünya\"\n",
        "\n",
        "print(x)\n",
        "print(y)"
      ],
      "metadata": {
        "colab": {
          "base_uri": "https://localhost:8080/"
        },
        "id": "bAYHy5E8wjr3",
        "outputId": "77fffe1f-b4b7-4fed-ec84-a7638baaf555"
      },
      "execution_count": 23,
      "outputs": [
        {
          "output_type": "stream",
          "name": "stdout",
          "text": [
            "5\n",
            "Merhaba Dünya\n"
          ]
        }
      ]
    },
    {
      "cell_type": "code",
      "source": [
        "#Integer - Tamsayı tanımlaması\n",
        "\n",
        "a=10\n",
        "print(type(a)) # Değişkenin türünü sorgulayarak ekrana yazdır."
      ],
      "metadata": {
        "colab": {
          "base_uri": "https://localhost:8080/"
        },
        "id": "pXsuZeEQyjLL",
        "outputId": "6dc7cf83-801d-4d36-cb78-1fa83c074c9b"
      },
      "execution_count": 25,
      "outputs": [
        {
          "output_type": "stream",
          "name": "stdout",
          "text": [
            "<class 'int'>\n"
          ]
        }
      ]
    },
    {
      "cell_type": "code",
      "source": [
        "#Float - Ondalıklı Sayı Tanımlaması\n",
        "\n",
        "b=20.5\n",
        "print(type(b)) # Değişkenin türünü sorgulayarak ekrana yazdır."
      ],
      "metadata": {
        "colab": {
          "base_uri": "https://localhost:8080/"
        },
        "id": "7FZ4p4kl6Vbq",
        "outputId": "fa97e37b-b66e-4b32-9e95-9bb801295cc4"
      },
      "execution_count": 26,
      "outputs": [
        {
          "output_type": "stream",
          "name": "stdout",
          "text": [
            "<class 'float'>\n"
          ]
        }
      ]
    },
    {
      "cell_type": "code",
      "source": [
        "# int'den float'a çevrimin gerçekleştirilmesi\n",
        "\n",
        "x=10\n",
        "y= float(x)\n",
        "print(y, type(y))"
      ],
      "metadata": {
        "colab": {
          "base_uri": "https://localhost:8080/"
        },
        "id": "v5EvgG1W6y6x",
        "outputId": "b019b67f-79b9-42f9-c66d-fb7b5299774b"
      },
      "execution_count": 27,
      "outputs": [
        {
          "output_type": "stream",
          "name": "stdout",
          "text": [
            "10.0 <class 'float'>\n"
          ]
        }
      ]
    },
    {
      "cell_type": "code",
      "source": [
        "# float'tan int'e çevrimin gerçekleştirilmesi\n",
        "\n",
        "a=12.34\n",
        "b= int(a)\n",
        "print(b, type(b))"
      ],
      "metadata": {
        "colab": {
          "base_uri": "https://localhost:8080/"
        },
        "id": "GN1hitTJ7JdP",
        "outputId": "fd3943b6-aedf-4a7c-a3f6-109a9098041e"
      },
      "execution_count": 29,
      "outputs": [
        {
          "output_type": "stream",
          "name": "stdout",
          "text": [
            "12 <class 'int'>\n"
          ]
        }
      ]
    },
    {
      "cell_type": "code",
      "source": [
        "# Boolean (True - False) / Doğru-Yanlış Tanımlaması\n",
        "d=True\n",
        "e=False\n",
        "print(d)\n",
        "print(type(e))"
      ],
      "metadata": {
        "colab": {
          "base_uri": "https://localhost:8080/"
        },
        "id": "d1TTub0u8ciX",
        "outputId": "02532249-dafc-4d9d-df55-a519f1402292"
      },
      "execution_count": 32,
      "outputs": [
        {
          "output_type": "stream",
          "name": "stdout",
          "text": [
            "True\n",
            "<class 'bool'>\n"
          ]
        }
      ]
    },
    {
      "cell_type": "code",
      "source": [
        "# List - Liste Tanımlaması\n",
        "\n",
        "my_list=[1,2,3,4,5]\n",
        "print(type(my_list))\n",
        "print(my_list)"
      ],
      "metadata": {
        "colab": {
          "base_uri": "https://localhost:8080/"
        },
        "id": "QQ5uvrau97uG",
        "outputId": "cc10def3-0111-4f1f-886a-a2a9b8fe9d4c"
      },
      "execution_count": 33,
      "outputs": [
        {
          "output_type": "stream",
          "name": "stdout",
          "text": [
            "<class 'list'>\n",
            "[1, 2, 3, 4, 5]\n"
          ]
        }
      ]
    },
    {
      "cell_type": "code",
      "source": [
        "# Tuple - Demet Tanımlaması\n",
        "\n",
        "my_tuple=(1,2,3,4,5)\n",
        "print(type(my_tuple))\n",
        "print(my_tuple)"
      ],
      "metadata": {
        "colab": {
          "base_uri": "https://localhost:8080/"
        },
        "id": "GiMfQGPa-a8e",
        "outputId": "20427219-1896-47f9-a227-22a80de56148"
      },
      "execution_count": 34,
      "outputs": [
        {
          "output_type": "stream",
          "name": "stdout",
          "text": [
            "<class 'tuple'>\n",
            "(1, 2, 3, 4, 5)\n"
          ]
        }
      ]
    },
    {
      "cell_type": "code",
      "source": [
        "# Dictionary - Sözlük Örneği -> Öğrencilerin not nilgilerini sözlüğe ekleme\n",
        "\n",
        "notlar= {\n",
        "    \"Ali\": 85,\n",
        "    \"Veli\": 90,\n",
        "    \"Ayşe\": 75\n",
        "}\n",
        "\n",
        "notlar[\"Fatma\"]=92 # Yeni öğrenci ekleme\n",
        "notlar[\"Ali\"]=80 # Ali'nin notunu güncelleme\n",
        "print(notlar) # Notları yazdırır"
      ],
      "metadata": {
        "colab": {
          "base_uri": "https://localhost:8080/"
        },
        "id": "n22BNuPi_Dn8",
        "outputId": "6e48809b-f850-4c91-ad8f-219a298e817d"
      },
      "execution_count": 38,
      "outputs": [
        {
          "output_type": "stream",
          "name": "stdout",
          "text": [
            "{'Ali': 80, 'Veli': 90, 'Ayşe': 75, 'Fatma': 92}\n"
          ]
        }
      ]
    },
    {
      "cell_type": "code",
      "source": [
        "print(notlar.keys()) # dict_keys(['isim','yas','meslek'])\n",
        "print(notlar.values()) # dict_values([10,20,30])\n",
        "print(notlar.items()) # dict_items([('isim',10),('yas',20),('meslek',30)])"
      ],
      "metadata": {
        "colab": {
          "base_uri": "https://localhost:8080/"
        },
        "id": "QpZLAMtgBNN5",
        "outputId": "e37e3a0d-cd18-4d68-80f0-397a2321c1b0"
      },
      "execution_count": 39,
      "outputs": [
        {
          "output_type": "stream",
          "name": "stdout",
          "text": [
            "dict_keys(['Ali', 'Veli', 'Ayşe', 'Fatma'])\n",
            "dict_values([80, 90, 75, 92])\n",
            "dict_items([('Ali', 80), ('Veli', 90), ('Ayşe', 75), ('Fatma', 92)])\n"
          ]
        }
      ]
    },
    {
      "cell_type": "code",
      "source": [
        "# Set - Küme Örneği -> Bir yazolım etkinliğine katılan kişilerin oluşturduğu kümeler\n",
        "kodyazanlar = {\"Ahmet\",\"Mehmet\",\"Ayşe\"}\n",
        "kodyazmayanlar = {\"Ayşe\",\"Veli\",\"Fatma\"}\n",
        "\n",
        "# Kafasına göre takılan öğrenciler\n",
        "ortak = kodyazanlar.intersection(kodyazmayanlar)\n",
        "print(\"Kafasına göre takılan öğrencilerin listesi: \", ortak)\n",
        "\n",
        "# Etkinlikte kod çalışması yapmayan öğrenciler\n",
        "Kod_yazmayan = kodyazmayanlar.difference(kodyazanlar)\n",
        "print(\"Kod çalışması yapmayan öğrenci listesi: \",Kod_yazmayan)\n",
        "\n",
        "# Yazılım eğitimi öğrenci imza listesi\n",
        "imza_listesi = kodyazanlar.union(kodyazmayanlar)\n",
        "print(\"Etkinlik katılımcıları: \",imza_listesi)\n"
      ],
      "metadata": {
        "colab": {
          "base_uri": "https://localhost:8080/"
        },
        "id": "tzN5lL66BxiS",
        "outputId": "9a8aeafc-6b0b-4067-f348-460babb4be4c"
      },
      "execution_count": 40,
      "outputs": [
        {
          "output_type": "stream",
          "name": "stdout",
          "text": [
            "Kafasına göre takılan öğrencilerin listesi:  {'Ayşe'}\n",
            "Kod çalışması yapmayan öğrenci listesi:  {'Veli', 'Fatma'}\n",
            "Etkinlik katılımcıları:  {'Mehmet', 'Ayşe', 'Ahmet', 'Fatma', 'Veli'}\n"
          ]
        }
      ]
    },
    {
      "cell_type": "code",
      "source": [
        "# Kontrollü değer alma uygulaması\n",
        "\n",
        "giris = input(\"Lütfen bir sayı giriniz: \")\n",
        "try:\n",
        "  num = float(giris)\n",
        "  print(f\"Girilen sayı: {num}, tipi: {type(num)}\", abs(num))\n",
        "except ValueError:\n",
        "  print(\"Geçersiz veri girdiniz.\")\n",
        "#"
      ],
      "metadata": {
        "colab": {
          "base_uri": "https://localhost:8080/"
        },
        "id": "CSXD1f8kEIK6",
        "outputId": "188f31f4-ce44-4d1b-85fd-796471aa2427"
      },
      "execution_count": 43,
      "outputs": [
        {
          "output_type": "stream",
          "name": "stdout",
          "text": [
            "Lütfen bir sayı giriniz: -45\n",
            "Girilen sayı: -45.0, tipi: <class 'float'> 45.0\n"
          ]
        }
      ]
    },
    {
      "cell_type": "code",
      "source": [
        "import random\n",
        "\n",
        "rastgele_float = random.random()\n",
        "print(\"Rastgele Deger: \",rastgele_float)"
      ],
      "metadata": {
        "colab": {
          "base_uri": "https://localhost:8080/"
        },
        "id": "Eo62fR1AFBKf",
        "outputId": "c3a53e76-9f89-40d6-de72-367049b7bffd"
      },
      "execution_count": 69,
      "outputs": [
        {
          "output_type": "stream",
          "name": "stdout",
          "text": [
            "Rastgele Deger:  0.9121901326015075\n"
          ]
        }
      ]
    },
    {
      "cell_type": "code",
      "source": [
        "import random\n",
        "\n",
        "rastgele_sayi = random.randint(1,10)\n",
        "print(\"Rastgele Deger: \",rastgele_sayi)"
      ],
      "metadata": {
        "colab": {
          "base_uri": "https://localhost:8080/"
        },
        "id": "aTi_ex1fF7lW",
        "outputId": "c3558a8b-dcaf-4458-95d7-12756d52afd4"
      },
      "execution_count": 72,
      "outputs": [
        {
          "output_type": "stream",
          "name": "stdout",
          "text": [
            "Rastgele Deger:  5\n"
          ]
        }
      ]
    }
  ]
}