{
  "nbformat": 4,
  "nbformat_minor": 0,
  "metadata": {
    "colab": {
      "provenance": []
    },
    "kernelspec": {
      "name": "python3",
      "display_name": "Python 3"
    },
    "language_info": {
      "name": "python"
    }
  },
  "cells": [
    {
      "cell_type": "code",
      "execution_count": 14,
      "metadata": {
        "colab": {
          "base_uri": "https://localhost:8080/"
        },
        "id": "I2Y7U3RuqSHn",
        "outputId": "408b0e61-f845-470c-c495-c25efb50aa03"
      },
      "outputs": [
        {
          "output_type": "stream",
          "name": "stdout",
          "text": [
            "Merhaba, İGÜ - İSTKA / Ders 3\n"
          ]
        }
      ],
      "source": [
        "print(\"Merhaba, İGÜ - İSTKA / Ders 3\") # yazdırma fonksiyonu"
      ]
    },
    {
      "cell_type": "code",
      "source": [
        "import sys # yazılıma kütüpjaneyi ekler.\n",
        "print(sys.version) # yazılan kütüphane hakkında bilgi verir"
      ],
      "metadata": {
        "colab": {
          "base_uri": "https://localhost:8080/"
        },
        "id": "kUIRBxlcr_Q7",
        "outputId": "ce90a43d-0091-4afd-e69f-d87508b60bf2"
      },
      "execution_count": 15,
      "outputs": [
        {
          "output_type": "stream",
          "name": "stdout",
          "text": [
            "3.10.12 (main, Jul 29 2024, 16:56:48) [GCC 11.4.0]\n"
          ]
        }
      ]
    },
    {
      "cell_type": "code",
      "source": [
        "from google.colab import drive # google drive'ı bağlar.\n",
        "drive.mount('/content/drive') # google drive'ı bağlar."
      ],
      "metadata": {
        "colab": {
          "base_uri": "https://localhost:8080/"
        },
        "id": "cstQFhxGsIO6",
        "outputId": "dde94cda-4156-46dd-f97d-91211665a847"
      },
      "execution_count": 16,
      "outputs": [
        {
          "output_type": "stream",
          "name": "stdout",
          "text": [
            "Drive already mounted at /content/drive; to attempt to forcibly remount, call drive.mount(\"/content/drive\", force_remount=True).\n"
          ]
        }
      ]
    },
    {
      "cell_type": "code",
      "source": [
        "import os # yazılıma kütüphane ekler.\n",
        "os.chdir('/content/drive/My Drive/VERIYAPILARI_ISTKA') # Konumunu belirtir."
      ],
      "metadata": {
        "id": "TfrFMLW7sJ2a"
      },
      "execution_count": 17,
      "outputs": []
    },
    {
      "cell_type": "code",
      "source": [
        "#if koşul yapısı\n",
        "\n",
        "x = 10\n",
        "\n",
        "if x>5:\n",
        "  print(\"x değeri 5'ten büyüktür.\")"
      ],
      "metadata": {
        "colab": {
          "base_uri": "https://localhost:8080/"
        },
        "id": "R1ZB7K6OsUG6",
        "outputId": "c1789faf-bd3c-4564-c02b-bcdf2a4af09c"
      },
      "execution_count": 20,
      "outputs": [
        {
          "output_type": "stream",
          "name": "stdout",
          "text": [
            "x değeri 5'ten büyüktür.\n"
          ]
        }
      ]
    },
    {
      "cell_type": "code",
      "source": [
        "# if-else kouşulu yapısı\n",
        "\n",
        "x = 3\n",
        "\n",
        "if x > 5:\n",
        "  print(\"x değeri 5'ten büyüktür.\")\n",
        "else:\n",
        "  print(\"x değeri 5'ten büyük değildir.\")"
      ],
      "metadata": {
        "colab": {
          "base_uri": "https://localhost:8080/"
        },
        "id": "aOkmpjGf4z9y",
        "outputId": "b3f3bb7c-3516-48ff-cee0-d15171ced61a"
      },
      "execution_count": 24,
      "outputs": [
        {
          "output_type": "stream",
          "name": "stdout",
          "text": [
            "x değeri 5'ten büyük değildir.\n"
          ]
        }
      ]
    },
    {
      "cell_type": "code",
      "source": [
        "# if-elif-else koşul yapısı\n",
        "\n",
        "x=8\n",
        "if x>10:\n",
        "  print(\"x değeri 10'dan büyüktür.\")\n",
        "elif x>5:\n",
        "  print(\"x değeri 5'ten büyüktür ama 10'dan küçük veya eşittir.\")\n",
        "else:\n",
        "  print(\"x değeri 5'ten küçük veya eşittir.\")"
      ],
      "metadata": {
        "colab": {
          "base_uri": "https://localhost:8080/"
        },
        "id": "2nEl5QPY8ZyH",
        "outputId": "137e6e9e-65c9-40db-ced0-88437765db07"
      },
      "execution_count": 23,
      "outputs": [
        {
          "output_type": "stream",
          "name": "stdout",
          "text": [
            "x değeri 5'ten büyüktür ama 10'dan küçük veya eşittir.\n"
          ]
        }
      ]
    },
    {
      "cell_type": "code",
      "source": [
        "# iç içe koşul yapısı\n",
        "\n",
        "x=12\n",
        "y= 8\n",
        "\n",
        "if x>10:\n",
        "  if y>5:\n",
        "    print(\"x değeri 10'dan büyüktür ve y değeri 5'ten büyüktür.\")\n",
        "  else:\n",
        "    print(\"x değeri 10'dan büyüktür ama y değeri 5'ten küçük veya eşittir.\")\n",
        "else:\n",
        "    print(\"x,10'dan küçük veya eşittir.\")"
      ],
      "metadata": {
        "colab": {
          "base_uri": "https://localhost:8080/"
        },
        "id": "ufy0qRnnDzgk",
        "outputId": "e3f96b64-63db-4c4e-d531-dace3c97f16d"
      },
      "execution_count": 22,
      "outputs": [
        {
          "output_type": "stream",
          "name": "stdout",
          "text": [
            "x değeri 10'dan büyüktür ve y değeri 5'ten büyüktür.\n"
          ]
        }
      ]
    },
    {
      "cell_type": "code",
      "source": [
        "# MAntıksal operatörler ile koşullar\n",
        "\n",
        "x=7\n",
        "y=3\n",
        "\n",
        "# 'and' operatörü ile\n",
        "if x>5 and y>2:\n",
        "  print(\"x değeri 5'ten büyüktür ve y değeri 2'den büyüktür.\")\n",
        "\n",
        "# 'or' operatörü ile\n",
        "if x>5 or y>5:\n",
        "  print(\"x veya y, 5'den büyük.\")\n",
        "\n",
        "  # 'not' operatörü ile\n",
        "if not (x>10):\n",
        "  print(\"x değeri 10'dan küçük veya eşittir.\")"
      ],
      "metadata": {
        "colab": {
          "base_uri": "https://localhost:8080/"
        },
        "id": "0eiXDF0fEwRI",
        "outputId": "3a82c76c-7712-45a6-a389-ea10318cd47e"
      },
      "execution_count": 27,
      "outputs": [
        {
          "output_type": "stream",
          "name": "stdout",
          "text": [
            "x değeri 5'ten büyüktür ve y değeri 2'den büyüktür.\n",
            "x veya y, 5'den büyük.\n",
            "x değeri 10'dan küçük veya eşittir.\n"
          ]
        }
      ]
    },
    {
      "cell_type": "code",
      "source": [
        "# Örnek 1: Not Sistemi\n",
        "\n",
        "notu=85 # Öğrencinin aldığı notu temsil etmektedir.\n",
        "\n",
        "if notu>=90:\n",
        "  print(\"Harf notu: A\")\n",
        "elif notu>=80:\n",
        "  print(\"Harf notu: B\")\n",
        "elif notu>=70:\n",
        "  print(\"Harf notu: C\")\n",
        "elif notu>=60:\n",
        "  print(\"Harf notu: D\")\n",
        "else:\n",
        "  print(\"Harf notu: F\")"
      ],
      "metadata": {
        "colab": {
          "base_uri": "https://localhost:8080/"
        },
        "id": "sfHB7eVHGwKQ",
        "outputId": "d480d481-b7b0-4701-9771-17351f2ee014"
      },
      "execution_count": 28,
      "outputs": [
        {
          "output_type": "stream",
          "name": "stdout",
          "text": [
            "Harf notu: B\n"
          ]
        }
      ]
    },
    {
      "cell_type": "code",
      "source": [
        "# Örnek 2: Yaş Kontrolü\n",
        "\n",
        "yas=20\n",
        "\n",
        "if yas<18:\n",
        "  print(\"Reşit değilsiniz.\")\n",
        "elif yas<21:\n",
        "  print(\"Reşitsiniz ama içecek satın alamazsınız.\")\n",
        "else:\n",
        "  print(\"İçecek satın alabilirsiniz. \")"
      ],
      "metadata": {
        "colab": {
          "base_uri": "https://localhost:8080/"
        },
        "id": "GBGkIUXwIEF1",
        "outputId": "c3be21c2-1a80-499d-e950-f62bd2cb0f3b"
      },
      "execution_count": 30,
      "outputs": [
        {
          "output_type": "stream",
          "name": "stdout",
          "text": [
            "Reşitsiniz ama içecek satın alamazsınız.\n"
          ]
        }
      ]
    },
    {
      "cell_type": "code",
      "source": [
        "# Örnek 3: Sayı Pozitif, Negatif veya Sıfır mı?\n",
        "\n",
        "sayi=int(input(\"Bir sayı giriniz: \")) #Kullanıcıdan tam sayı girdisi alınır.\n",
        "\n",
        "if sayi>0:\n",
        "  print(\"Girdiğiniz sayı pozitiftir.\")\n",
        "elif sayi<0:\n",
        "  print(\"Girdiğiniz sayı negatiftir.\")\n",
        "else:\n",
        "  print(\"Girdiğiniz sayı sıfırdır.\")"
      ],
      "metadata": {
        "colab": {
          "base_uri": "https://localhost:8080/"
        },
        "id": "EGw6OH4dI5NR",
        "outputId": "e77ff3ad-a371-48ef-bd33-dd8c14b27da7"
      },
      "execution_count": 42,
      "outputs": [
        {
          "output_type": "stream",
          "name": "stdout",
          "text": [
            "Bir sayı giriniz: -4\n",
            "Girdiğiniz sayı negatiftir.\n"
          ]
        }
      ]
    }
  ]
}