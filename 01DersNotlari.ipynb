{
  "nbformat": 4,
  "nbformat_minor": 0,
  "metadata": {
    "colab": {
      "provenance": []
    },
    "kernelspec": {
      "name": "python3",
      "display_name": "Python 3"
    },
    "language_info": {
      "name": "python"
    }
  },
  "cells": [
    {
      "cell_type": "markdown",
      "source": [
        "Python programlama dilinde print komutu ekrandan kullanıcıya bilgi veren bir koddur.\n",
        "Veri yapıları ve Algoritmalar dersi ilk kodlama çıktısıdır. İGÜ İSTKA SİBER AKADEMİ MERKEZİ - 19.08.2024"
      ],
      "metadata": {
        "id": "GXbQSqiV6zpp"
      }
    },
    {
      "cell_type": "code",
      "execution_count": 5,
      "metadata": {
        "colab": {
          "base_uri": "https://localhost:8080/"
        },
        "id": "3DM6lsQK2rKM",
        "outputId": "c0a21a55-d692-44c7-979c-93d236da2816"
      },
      "outputs": [
        {
          "output_type": "stream",
          "name": "stdout",
          "text": [
            "Merhaba, İGÜ - İSTKA / Ders 1!\n"
          ]
        }
      ],
      "source": [
        "print(\"Merhaba, İGÜ - İSTKA / Ders 1!\") # ekrana yazı yazdırıyoruz."
      ]
    },
    {
      "cell_type": "markdown",
      "source": [
        "Python programlama dersinde \"Hello World!\" çıktısı yerelleştirilerek yapılmıştır."
      ],
      "metadata": {
        "id": "0bHh3lSw6g0k"
      }
    },
    {
      "cell_type": "code",
      "source": [
        "import sys # system kütüphanesini ekler.\n",
        "print(sys.version) # system versiyonunu ekrana yazdırır."
      ],
      "metadata": {
        "colab": {
          "base_uri": "https://localhost:8080/"
        },
        "id": "bIQhv5kq5_LO",
        "outputId": "59392196-fc25-4dd4-c469-da2443a4a2b6"
      },
      "execution_count": 4,
      "outputs": [
        {
          "output_type": "stream",
          "name": "stdout",
          "text": [
            "3.10.12 (main, Jul 29 2024, 16:56:48) [GCC 11.4.0]\n"
          ]
        }
      ]
    },
    {
      "cell_type": "code",
      "source": [
        "from google.colab import drive # google colab ve google drive bağlantısı\n",
        "drive.mount('/content/drive')"
      ],
      "metadata": {
        "colab": {
          "base_uri": "https://localhost:8080/"
        },
        "id": "FQfMmnPH7vRc",
        "outputId": "8519b46f-d8c8-4208-cb2e-c639b27205fc"
      },
      "execution_count": 6,
      "outputs": [
        {
          "output_type": "stream",
          "name": "stdout",
          "text": [
            "Mounted at /content/drive\n"
          ]
        }
      ]
    },
    {
      "cell_type": "markdown",
      "source": [
        "Kodumuzu Google Colab ve Google Drive hizmetlerine bağlıyoruz."
      ],
      "metadata": {
        "id": "NrFKXGRJ8KMy"
      }
    },
    {
      "cell_type": "code",
      "source": [
        "import os #OS kütüphanesini ekler.\n",
        "os.chdir('/content/drive/My Drive/VERIYAPILARI_ISTKA') # Dosya yolunu  belirtiyoruz.\n",
        "!pwd # bize kodun çıktısını dosya yolu olarak veren kod blogudur."
      ],
      "metadata": {
        "colab": {
          "base_uri": "https://localhost:8080/"
        },
        "id": "wBxHqjDj86FO",
        "outputId": "7a03a15f-e726-41da-b458-1a1a271eb65b"
      },
      "execution_count": 7,
      "outputs": [
        {
          "output_type": "stream",
          "name": "stdout",
          "text": [
            "/content/drive/My Drive/VERIYAPILARI_ISTKA\n"
          ]
        }
      ]
    }
  ]
}
